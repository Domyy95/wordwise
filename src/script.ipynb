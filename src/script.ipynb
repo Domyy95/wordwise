{
 "cells": [
  {
   "cell_type": "code",
   "execution_count": 1,
   "metadata": {},
   "outputs": [],
   "source": [
    "from model import Dictionary\n",
    "\n",
    "model_dict = Dictionary(\"parole.json\")"
   ]
  },
  {
   "cell_type": "markdown",
   "metadata": {},
   "source": [
    "### Words selection"
   ]
  },
  {
   "cell_type": "code",
   "execution_count": 2,
   "metadata": {},
   "outputs": [],
   "source": [
    "last_7_words = model_dict.get_last_n_dates_words(7)\n",
    "for word in last_7_words:\n",
    "    print(word)"
   ]
  },
  {
   "cell_type": "code",
   "execution_count": 4,
   "metadata": {},
   "outputs": [
    {
     "name": "stdout",
     "output_type": "stream",
     "text": [
      "\n",
      "Word: Adamitici \n",
      "Meaning: Di Adamo, relativi ad Adamo\n",
      "\n",
      "Word: Prosopopea \n",
      "Meaning: Personificiazione di oggetti inanimati o di astrazione, o persone morte; Atteggiamento di presuntuosa e a volte ridicola gravità\n",
      "\n",
      "Word: Indefettibile \n",
      "Meaning: Che non può venire meno; Che non può cadere in difetto\n",
      "('2024-04-18', Levità Leggerezza)\n",
      "('2024-04-15', Intonso Non tosato, che porta i capelli lunghi, mai tagliati e incolti. Particolarmente abbondanti., Di un libro mai aperto. Modo figurato)\n",
      "('2024-04-08', Adenoidea Ipertrofia e iperplasia della tonsilla faringea, l'organo linfoide che occupa la volta del rinofaringe, in prossimità delle coane e dei padiglioni delle tube di Eustachio.)\n"
     ]
    }
   ],
   "source": [
    "words = []\n",
    "days_ago_list = [30, 60, 90]\n",
    "x_random_words = 3 # da chiedere all'utente\n",
    "\n",
    "for days_ago in days_ago_list: #Estrae 30,60,90 giorni fa se le torva altrimenti prende la più vicina non nulla precedente\n",
    "    words_n_days_ago = model_dict.get_n_days_ago_words(days_ago)\n",
    "    j = 0\n",
    "    while words_n_days_ago == []:\n",
    "        words_n_days_ago = model_dict.get_n_days_ago_words(days_ago-j)\n",
    "        j = j + 1\n",
    "    \n",
    "    for k in range(len(words_n_days_ago)):   \n",
    "        words.append(words_n_days_ago[k])\n",
    "\n",
    "for i in range(x_random_words):\n",
    "    random_word = model_dict.get_random_word()\n",
    "    words.append(random_word)\n",
    "\n",
    "for word in words:\n",
    "    print(word)\n"
   ]
  }
 ],
 "metadata": {
  "kernelspec": {
   "display_name": "random",
   "language": "python",
   "name": "python3"
  },
  "language_info": {
   "codemirror_mode": {
    "name": "ipython",
    "version": 3
   },
   "file_extension": ".py",
   "mimetype": "text/x-python",
   "name": "python",
   "nbconvert_exporter": "python",
   "pygments_lexer": "ipython3",
   "version": "3.11.9"
  }
 },
 "nbformat": 4,
 "nbformat_minor": 2
}
