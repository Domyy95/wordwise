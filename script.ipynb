{
 "cells": [
  {
   "cell_type": "code",
   "execution_count": 1,
   "metadata": {},
   "outputs": [],
   "source": [
    "from model import Dictionary\n",
    "\n",
    "\n",
    "model_dict = Dictionary(\"parole.json\")"
   ]
  },
  {
   "cell_type": "markdown",
   "metadata": {},
   "source": [
    "### Words extraction"
   ]
  },
  {
   "cell_type": "code",
   "execution_count": 12,
   "metadata": {},
   "outputs": [
    {
     "name": "stdout",
     "output_type": "stream",
     "text": [
      "\n",
      "Word: misogino \n",
      "Meaning: Di persona che prova una repulsione patologica verso la donna, anche per ciò che concerne i rapporti sessuali, o che ha un’avversione generica, mista a disprezzo, per tutte le donne.\n",
      "Note: Ho definito Umberto così l'altra sera\n",
      "\n",
      "Word: misantropo \n",
      "Meaning: Persona caratterizzata da una perenne incapacità di inserirsi nei rapporti sociali con la conveniente partecipazione e cordialità.\n",
      "Note: Di persona che prova un sentimento di odio, di antipatia, di avversione per il genere umano, o che, in senso più ampio, ha carattere poco socievole, chiuso ai contatti umani. Io ultimamente.\n",
      "\n",
      "Word: bucolico \n",
      "Meaning: Pastorale sul piano letterario; Di tono o di ambiente campestre o boschereccio; idillico; Pollo\n",
      "Note: L'ha usata Dom per decrivere la sauna in Piemonte\n",
      "\n",
      "Word: parossistico \n",
      "Meaning: dominato da una violenta esasperazione; fenomeno accessionale violento\n",
      "\n",
      "Word: teofisia \n",
      "Meaning: conoscenza delle veritÃ  divine attraverso esperienze mistiche\n",
      "\n",
      "Word: solipsista \n",
      "Meaning: persona con un atteggiamento da individualista estremo. vede solo il proprio mondo ignorando quello degli altri. dall'atteggiamento filosofico del solipsismo\n",
      "\n",
      "Word: vituperare \n",
      "Meaning: coprire di insulti gravi alla dignitÃ  e all'onore (infamare); disprezzare\n",
      "\n",
      "Word: lapalissiano \n",
      "Meaning: qualcosa che Ã¨ scontato, del tutto evidente. un fatto talmente ovvio che la enunciazione o la constatazione ne risulta ridicola\n",
      "\n",
      "Word: pleonastico \n",
      "Meaning: ridondante\n",
      "\n",
      "Word: smargiasso \n",
      "Meaning: persona che si vanta di capacitÃ  o imprese inventate o che ingigantisce le proprie qualitÃ \n"
     ]
    }
   ],
   "source": [
    "last_7_words = model_dict.get_last_n_dates_words(7)\n",
    "for word in last_7_words:\n",
    "    print(word)"
   ]
  },
  {
   "cell_type": "code",
   "execution_count": null,
   "metadata": {},
   "outputs": [],
   "source": [
    "words = []\n",
    "days_ago_list = [30, 60, 90]\n",
    "x_random_words = 2#input(\"Quante parole randomiche vuoi estrarre?\") # da chiedere all'utente\n",
    "\n",
    "for days_ago in days_ago_list: #Estrae 30,60,90 giorni fa se le torva altrimenti prende la più vicina non nulla precedente\n",
    "    words_n_days_ago = model_dict.get_n_days_ago_words(days_ago)\n",
    "    j = 0\n",
    "    while words_n_days_ago == []:\n",
    "        words_n_days_ago = model_dict.get_n_days_ago_words(days_ago-j)\n",
    "        j = j + 1\n",
    "    \n",
    "    for k in range(len(words_n_days_ago)):   \n",
    "        words.append(words_n_days_ago[k])\n",
    "\n",
    "for i in range(x_random_words):\n",
    "    random_word = model_dict.get_random_word()\n",
    "    words.append(random_word[1])\n",
    "\n",
    "for word in words:\n",
    "    print(word)\n"
   ]
  },
  {
   "cell_type": "markdown",
   "metadata": {},
   "source": [
    "### Add new word"
   ]
  },
  {
   "cell_type": "code",
   "execution_count": 2,
   "metadata": {},
   "outputs": [],
   "source": [
    "from datetime import datetime, timedelta\n",
    "\n",
    "new_date = datetime.now().date()\n",
    "new_date = new_date.strftime('%Y-%m-%d')\n",
    "new_word = \"ò\"\n",
    "new_meaning = []\n",
    "new_meaning.append(\"Pastorale sul piano letterario\")\n",
    "new_meaning.append(\"Di tono o di ambiente campestre o boschereccio; idillico\")\n",
    "new_notes = \"L'ha usata Dom per decrivere la sauna in Piemonte\"\n",
    "\n",
    "model_dict.add_word(new_date, new_word, new_meaning, new_notes)\n"
   ]
  },
  {
   "cell_type": "code",
   "execution_count": 3,
   "metadata": {},
   "outputs": [],
   "source": [
    "#model_dict.remove_word(new_date,new_word)\n",
    "\n",
    "#print(model_dict.get_date_words(new_date)[2])\n",
    "\n",
    "model_dict.save_file_model(\"parole.json\")"
   ]
  },
  {
   "cell_type": "markdown",
   "metadata": {},
   "source": [
    "### Game meaning extraction"
   ]
  },
  {
   "cell_type": "code",
   "execution_count": null,
   "metadata": {},
   "outputs": [],
   "source": [
    "again = \"s\"\n",
    "while again.lower() == \"s\":\n",
    "    random_word = model_dict.get_random_word()\n",
    "\n",
    "    for mean in random_word[1].meanings:\n",
    "        print(mean)\n",
    "    print(\"Qual è la parola corrispondente a questi significati?\")\n",
    "    answer = input()\n",
    "    print(answer)\n",
    "\n",
    "    while answer.lower() != random_word[1].word.lower() and again == 's':\n",
    "        print(\"Parola sbagliata!\\n Vuoi riprovare? s/n\")\n",
    "        again = input()\n",
    "        if again == 'n':\n",
    "             break\n",
    "        answer = input()\n",
    "        print(answer)\n",
    "    \n",
    "    if answer.lower() == random_word[1].word.lower():\n",
    "            print(\"Parola corretta!\")\n",
    "            print(random_word[1])\n",
    "            print(\"Vuoi giocare ancora? s/n\")\n",
    "            again = input()\n"
   ]
  }
 ],
 "metadata": {
  "kernelspec": {
   "display_name": "random",
   "language": "python",
   "name": "python3"
  },
  "language_info": {
   "codemirror_mode": {
    "name": "ipython",
    "version": 3
   },
   "file_extension": ".py",
   "mimetype": "text/x-python",
   "name": "python",
   "nbconvert_exporter": "python",
   "pygments_lexer": "ipython3",
   "version": "3.12.0"
  }
 },
 "nbformat": 4,
 "nbformat_minor": 2
}
