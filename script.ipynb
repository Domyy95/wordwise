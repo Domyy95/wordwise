{
 "cells": [
  {
   "cell_type": "code",
   "execution_count": 1,
   "metadata": {},
   "outputs": [],
   "source": [
    "from model import Dictionary\n",
    "\n",
    "model_dict = Dictionary(\"parole.json\")"
   ]
  },
  {
   "cell_type": "markdown",
   "metadata": {},
   "source": [
    "### Words selection"
   ]
  },
  {
   "cell_type": "code",
   "execution_count": null,
   "metadata": {},
   "outputs": [],
   "source": [
    "dates = model_dict.get_all_dates()\n",
    "dates.reverse()\n",
    "words = []\n",
    "days_ago = [30, 60, 90]\n",
    "i=0\n",
    "x_random_words = 3 #da chiedere all'utente\n",
    "\n",
    "while len(words) < 7: #Estrae ultime 7 parole non nulle\n",
    "    words_n_days_ago = model_dict.get_date_words(dates[i])\n",
    "    i = i +1\n",
    "    for j in range(len(words_n_days_ago)):   \n",
    "        words.append(words_n_days_ago[j])\n",
    "\n",
    "for i in range(len(days_ago)): #Estrae 30,60,90 giorni fa se le torva altrimenti prende la più vicina non nulla precedente\n",
    "    words_n_days_ago = model_dict.get_n_days_ago_words(days_ago[i])\n",
    "    j = 0\n",
    "    while words_n_days_ago == []:\n",
    "        words_n_days_ago = model_dict.get_n_days_ago_words(days_ago[i]-j)\n",
    "        j = j + 1\n",
    "    \n",
    "    for k in range(len(words_n_days_ago)):   \n",
    "        words.append(words_n_days_ago[k])\n",
    "\n",
    "for i in range(x_random_words):\n",
    "    random_word = model_dict.get_random_word()\n",
    "    words.append(random_word)\n",
    "\n",
    "for i in range(len(words)):\n",
    "    print(words[i])\n"
   ]
  }
 ],
 "metadata": {
  "kernelspec": {
   "display_name": "random",
   "language": "python",
   "name": "python3"
  },
  "language_info": {
   "codemirror_mode": {
    "name": "ipython",
    "version": 3
   },
   "file_extension": ".py",
   "mimetype": "text/x-python",
   "name": "python",
   "nbconvert_exporter": "python",
   "pygments_lexer": "ipython3",
   "version": "3.1.undefined"
  }
 },
 "nbformat": 4,
 "nbformat_minor": 2
}
