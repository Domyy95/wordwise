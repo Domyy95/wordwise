{
 "cells": [
  {
   "cell_type": "code",
   "execution_count": 1,
   "metadata": {},
   "outputs": [],
   "source": [
    "from model import Dictionary\n",
    "\n",
    "\n",
    "model_dict = Dictionary(\"parole.json\")"
   ]
  },
  {
   "cell_type": "markdown",
   "metadata": {},
   "source": [
    "### Words selection"
   ]
  },
  {
   "cell_type": "code",
   "execution_count": 7,
   "metadata": {},
   "outputs": [
    {
     "name": "stdout",
     "output_type": "stream",
     "text": [
      "\n",
      "Word: Bucolico \n",
      "Meaning: Pastorale, sul piano letterario; Di tono o di ambiente campestre o boschereccio; idillico\n",
      "Note: L'ha usata Dom per decrivere la sauna in Piemonte\n",
      "\n",
      "Word: Bucolico \n",
      "Meaning: Pastorale, sul piano letterario; Di tono o di ambiente campestre o boschereccio; idillico\n",
      "Note: L'ha usata Dom per decrivere la sauna in Piemonte\n",
      "\n",
      "Word: Bucolico \n",
      "Meaning: Pastorale, sul piano letterario; Di tono o di ambiente campestre o boschereccio; idillico\n",
      "Note: L'ha usata Dom per decrivere la sauna in Piemonte\n",
      "\n",
      "Word: Parossistico \n",
      "Meaning: Dominato da una violenta esasperazione; Fenomeno accessionale violento\n",
      "\n",
      "Word: Teofisia \n",
      "Meaning: Conoscenza delle veritÃ  divine attraverso esperienze mistiche\n",
      "\n",
      "Word: Solipsista \n",
      "Meaning: Persona con un atteggiamento da individualista estremo. Vede solo il proprio mondo ignorando quello degli altri. Dall'atteggiamento filosofico del solipsismo\n",
      "\n",
      "Word: Vituperare \n",
      "Meaning: Coprire di insulti gravi alla dignitÃ  e all'onore (Infamare); Disprezzare\n",
      "\n",
      "Word: Lapalissiano \n",
      "Meaning: Qualcosa che Ã¨ scontato, del tutto evidente. Un fatto talmente ovvio che la enunciazione o la constatazione ne risulta ridicola\n",
      "\n",
      "Word: Pleonastico \n",
      "Meaning: Ridondante\n"
     ]
    }
   ],
   "source": [
    "last_7_words = model_dict.get_last_n_dates_words(7)\n",
    "for word in last_7_words:\n",
    "    print(word)"
   ]
  },
  {
   "cell_type": "code",
   "execution_count": 16,
   "metadata": {},
   "outputs": [
    {
     "name": "stdout",
     "output_type": "stream",
     "text": [
      "\n",
      "Word: Concionando \n",
      "Meaning: Parlare in pubblico solennemente, arringare; Recitare\n",
      "\n",
      "Word: Pasteggiare \n",
      "Meaning: Consumare un pasto\n",
      "\n",
      "Word: Recrudescente \n",
      "Meaning: Notevole aggravamento, ripresa preoccupante di un male fisico, morale o sociale, susseguente a una fase di stasi o di attenuazione\n",
      "('2024-04-03', Stigie Infernali, Dallo Stige, fiume dell'oltretomba)\n",
      "('2024-06-05', Cavagno Cesta, recipiente di vimini per trasportare alimenti)\n",
      "('2024-04-20', Cuspide EstremitÃ  appuntita di un'arma da lancio, Coronamento a piramide di un edificio)\n"
     ]
    }
   ],
   "source": [
    "words = []\n",
    "days_ago_list = [30, 60, 90]\n",
    "x_random_words = 3 # da chiedere all'utente\n",
    "\n",
    "for days_ago in days_ago_list: #Estrae 30,60,90 giorni fa se le torva altrimenti prende la più vicina non nulla precedente\n",
    "    words_n_days_ago = model_dict.get_n_days_ago_words(days_ago)\n",
    "    j = 0\n",
    "    while words_n_days_ago == []:\n",
    "        words_n_days_ago = model_dict.get_n_days_ago_words(days_ago-j)\n",
    "        j = j + 1\n",
    "    \n",
    "    for k in range(len(words_n_days_ago)):   \n",
    "        words.append(words_n_days_ago[k])\n",
    "\n",
    "for i in range(x_random_words):\n",
    "    random_word = model_dict.get_random_word()\n",
    "    words.append(random_word)\n",
    "\n",
    "for word in words:\n",
    "    print(word)\n"
   ]
  },
  {
   "cell_type": "code",
   "execution_count": 6,
   "metadata": {},
   "outputs": [
    {
     "name": "stdout",
     "output_type": "stream",
     "text": [
      "[Bucolico Pastorale, sul piano letterario, Di tono o di ambiente campestre o boschereccio; idillico L'ha usata Dom per decrivere la sauna in Piemonte, Bucolico Pastorale, sul piano letterario, Di tono o di ambiente campestre o boschereccio; idillico L'ha usata Dom per decrivere la sauna in Piemonte, Bucolico Pastorale, sul piano letterario, Di tono o di ambiente campestre o boschereccio; idillico L'ha usata Dom per decrivere la sauna in Piemonte, Parossistico Dominato da una violenta esasperazione, Fenomeno accessionale violento, Teofisia Conoscenza delle veritÃ  divine attraverso esperienze mistiche, Solipsista Persona con un atteggiamento da individualista estremo. Vede solo il proprio mondo ignorando quello degli altri. Dall'atteggiamento filosofico del solipsismo, Vituperare Coprire di insulti gravi alla dignitÃ  e all'onore (Infamare), Disprezzare, Lapalissiano Qualcosa che Ã¨ scontato, del tutto evidente. Un fatto talmente ovvio che la enunciazione o la constatazione ne risulta ridicola, Pleonastico Ridondante, Smargiasso Persona che si vanta di capacitÃ  o imprese inventate o che ingigantisce le proprie qualitÃ , Granciporro Errore madornale., Fibula Altro nome del perone, osso dietro della gamba, Incunabolo Nome dei primi prodotti della tipografia o le sue prime origini se usato al plurale, Inedia Prolungata astensione dal cibo e conseguente deperimento, Montura Uniforme, divisa, Gaglioffo Persona disonesta, priva di scrupoli, Burbanza Boria, alterigia vanitosa e sprezzante, Cavagno Cesta, recipiente di vimini per trasportare alimenti, Bilioso Pieno di bile, irritabile, collerico, con rabbia, Asclepiade Genere di pianta con centinaia di specie, Erba perenne dei monti dell'Europa meridionale e del Caucaso, dai grandi fiori azzurri. Le radici un tempo erano usate come medicinale., Bordone Lungo bastone dal manico ricurvo usato dai pellegrini, Piantare bordone = mantenersi a lungo in un posto, ospite non troppo gradito., Canna di alcuni strumenti a fiato., Penna di uccello appena spuntata., Concionando Parlare in pubblico solennemente, arringare, Recitare, Proterva Altero, superbo, sfrondato e arrogante. PiÃ¹ raramente vivace o ardito, Gotto Bicchiere fornito di manico piuttosto capiente. Equivale a 1.9L, Dispacci Comunicazione fatta pervenire per mezzo di corriere o staffetta, Nequizia MalvagitÃ , sdegno rabbioso, Bramosia sfrenata, libidine, Dispnoica Affetto da dispnea, respirazione alterata, affaticata o sofferente, Adamitici Di Adamo, relativi ad Adamo, Fralezza FragilitÃ , Lupanare Luogo di corruzione e abiezione, Esterofilia Amore per l'estero, Pedissequamente Del tutto privo di originalitÃ , Connestabili Colui che sovraintendeva le scuderie del sovrano, Traccheggiare Prender tempo, indugiare, procrastinare, tergiversare., Sfruculiare Stuzzicare, punzecchiare, infastidire con scherzi e battute pungenti, Zigare Emettere il verso dei conigli, Guazza Rugiada, Equorei Dal mare, marino, Assurgere Innalzarsi, quasi esclusivamente in senso figurato, Nicchiava Esitare, indugiare, tentennare, Alea Rischio, Celiando Scherzando, Muda Muta delle piume, Furieri Militare di truppa addetto agli aspetti amministrativi, Occaso Tramonto, declino, Corrusca Brillante, scintillante, Bugliolo Secchi in legno usati sulle navi, Antesignano Soldato dell'esercito romano di prima linea, Banditore e animatore di un movimento o un ideale, che anticipa i tempi., Nittitante Membrana sottile e trasparente nell'occhio di rettili, anfibi e uccelli, Tergo Dorso, dietro di qualcosa., Ferino Caratteristico delle belve feroci, bestiale., Pasteggiare Consumare un pasto, Schettini Pattini a rotelle, Canicolare Caldo torrido, Ottenebrante Oscuro, buio, tenebroso. Qualcosa che ha il potere di offuscare e annebbiare la mente, Smortigna Pallida e smorta, Pantagruelica Di una fame eccessiva e smodata, Prosopopea Personificiazione di oggetti inanimati o di astrazione, o persone morte, Atteggiamento di presuntuosa e a volte ridicola gravitÃ , Degnazione Atteggiamento o comportamento di condiscendenza o di benevolenza nei confronti di inferiori, Rabelaisiane Scherzoso, satirico, sboccato con la forza e il realismo espressivi dell'opera di Rabelais, Remigante Persona che rema, Penne remiganti: penne lunghe sulla fine delle ali degli uccelli, Viatico Provviste per il viaggio, IndennitÃ  per i giocatori di Montecalro che hanno perso tutto., Eucarestia agli infermi, Spese all'esercito o allo stato pagate nel medioevo, Pampini Foglia della vita, Cuspide EstremitÃ  appuntita di un'arma da lancio, Coronamento a piramide di un edificio, Prora Parte anteriore di uno scafo, LevitÃ  Leggerezza, Doccioni Parte finale del tubo di scarico, Stoino Piccola stuoia, Tapparella di legno che si arrotola verso l'alto, Intonso Non tosato, che porta i capelli lunghi, mai tagliati e incolti. Particolarmente abbondanti., Di un libro mai aperto. Modo figurato, Diuturno Di lunga durata, che si protrae eccessivamente nel tempo., Rintuzzare Replicare immediatamente e con vivacitÃ , controbattere con calore., Serica Fatta di seta, Popliti Regione dell'arto inferiore, corrispondente alla faccia posteriore dell'articolazione del ginocchio, Cicisbeo L'accompagnatore ufficiale di una dama, con una sfumatura di galanteria e leziositÃ  che non Ã¨ in cavalier servente, Corteggiatore galante, Grosso fiocco ornamentale, Verecondia Atteggiamento riservato e timoroso, riconducibile a un naturale senso di pudore., Timore del biasimo, Adenoidea Ipertrofia e iperplasia della tonsilla faringea, l'organo linfoide che occupa la volta del rinofaringe, in prossimitÃ  delle coane e dei padiglioni delle tube di Eustachio., Strologare Lambiccarsi il cervello nel vano sforzo di risolvere o capire qualcosa. Congetturare sulla base di ipotesi fantasiose, Prevedere con l'astrologia, Canniccio/Incannicciatura Graticcio di canne per vari usi, Dagherrotipo Antico processo fotografico che usava lastre di rame argentato ricoperte di ioduro d'argento, Luculliano Improntato a una fastosa raffinatezza da un punto di vista gastronomico. Si usa per il pasto, Stigie Infernali, Dallo Stige, fiume dell'oltretomba, Recrudescente Notevole aggravamento, ripresa preoccupante di un male fisico, morale o sociale, susseguente a una fase di stasi o di attenuazione, Scarificare Incidere superficialmente la cute o una mucosa a scopo terapeutico o diagnostico., Praticare un'incisione sulla corteccia di un albero per farne sgorgare la linfa., Rompere il terreno o demolire una massicciata con lo scarificatore., ProdigalitÃ  Tendenza a spendere o a donare con larghezza eccessiva e senza riflessione, Nartece Parte della basilica paleocristiana riservata ai catecumeni e ai penitenti, costituita da un vestibolo per lo piÃ¹ addossato all'esterno della facciata o, meno spesso, ricavato all'interno oppure Cassetta destinata a contenere unguenti, Solluchero Viva soddisfazione o compiacimento, comica reazione di una goffa vanitÃ  lusingata e solleticata. Sensazione e stato di grande soddisfazione, compiacimento e godimento, per parole o fatti che rispondono alle proprie [...] aspirazioni e ambizioni, e lusingano la propria vanitÃ ., Disumanante Verbo che significa abbruttire, Indefettibile Che non puÃ² venire meno, Che non puÃ² cadere in difetto, Eterodossia Professione di dottrine e opinioni diverse da quelle universalmente accolte come vere, Apostata Rinnegatore del proprio credo]\n"
     ]
    }
   ],
   "source": [
    "from datetime import datetime, timedelta\n",
    "\n",
    "new_date = datetime.now().date()\n",
    "new_date = new_date.strftime('%Y-%m-%d')\n",
    "new_word = \"Bucolico\"\n",
    "new_meaning = []\n",
    "new_meaning.append(\"Pastorale, sul piano letterario\")\n",
    "new_meaning.append(\"Di tono o di ambiente campestre o boschereccio; idillico\")\n",
    "new_notes = \"L'ha usata Dom per decrivere la sauna in Piemonte\"\n",
    "\n",
    "model_dict.add_word(new_date, new_word, new_meaning, new_notes)"
   ]
  }
 ],
 "metadata": {
  "kernelspec": {
   "display_name": "random",
   "language": "python",
   "name": "python3"
  },
  "language_info": {
   "codemirror_mode": {
    "name": "ipython",
    "version": 3
   },
   "file_extension": ".py",
   "mimetype": "text/x-python",
   "name": "python",
   "nbconvert_exporter": "python",
   "pygments_lexer": "ipython3",
   "version": "3.12.0"
  }
 },
 "nbformat": 4,
 "nbformat_minor": 2
}
